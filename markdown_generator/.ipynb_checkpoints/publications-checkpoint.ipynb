{
 "cells": [
  {
   "cell_type": "markdown",
   "metadata": {},
   "source": [
    "# Publications markdown generator for academicpages\n",
    "\n",
    "Takes a TSV of publications with metadata and converts them for use with [academicpages.github.io](academicpages.github.io). This is an interactive Jupyter notebook ([see more info here](http://jupyter-notebook-beginner-guide.readthedocs.io/en/latest/what_is_jupyter.html)). The core python code is also in `publications.py`. Run either from the `markdown_generator` folder after replacing `publications.tsv` with one containing your data.\n",
    "\n",
    "TODO: Make this work with BibTex and other databases of citations, rather than Stuart's non-standard TSV format and citation style.\n"
   ]
  },
  {
   "cell_type": "markdown",
   "metadata": {},
   "source": [
    "## Data format\n",
    "\n",
    "The TSV needs to have the following columns: pub_date, title, venue, excerpt, citation, site_url, and paper_url, with a header at the top. \n",
    "\n",
    "- `excerpt` and `paper_url` can be blank, but the others must have values. \n",
    "- `pub_date` must be formatted as YYYY-MM-DD.\n",
    "- `url_slug` will be the descriptive part of the .md file and the permalink URL for the page about the paper. The .md file will be `YYYY-MM-DD-[url_slug].md` and the permalink will be `https://[yourdomain]/publications/YYYY-MM-DD-[url_slug]`\n",
    "\n",
    "This is how the raw file looks (it doesn't look pretty, use a spreadsheet or other program to edit and create)."
   ]
  },
  {
   "cell_type": "code",
   "execution_count": 13,
   "metadata": {
    "vscode": {
     "languageId": "shellscript"
    }
   },
   "outputs": [
    {
     "name": "stdout",
     "output_type": "stream",
     "text": [
      "pub_date\ttitle\tvenue\texcerpt\tcitation\turl_slug\tpaper_url\tppt_path\n",
      "2024/7/19\tImproved Naive Bayes with Mislabeled Data\tStatistics and Its Interface\t \t\"Zeng, Q., Zhu, Y.*, Zhu, X., Wang, F., Zhao, W., Sun, S., Su, M., and Wang, H. (2024), \"\"Improved Naive Bayes with Mislabeled Data,\"\"  Statistics and Its Interface, 17(3):323-336.\"\tINB\thttps://dx.doi.org/10.4310/22-SII757\t/files/INB_PPT.pdf\n",
      "2024/3/25\tA Semiparametric Gaussian Mixture Model for Chest CT-based 3D Blood Vessel Reconstruction \tBiostatistics\t\t\"Zeng, Q., Zhou, J.*, Ji, Y., Wang, H. (2024), A Semiparametric Gaussian Mixture Model for Chest CT Based 3D Blood Vessel Reconstruction. Biostatistics, kxae013.\"\tKEM\thttps://doi.org/10.1093/biostatistics/kxae013\t"
     ]
    }
   ],
   "source": [
    "!cat publications.tsv"
   ]
  },
  {
   "cell_type": "markdown",
   "metadata": {},
   "source": [
    "## Import pandas\n",
    "\n",
    "We are using the very handy pandas library for dataframes."
   ]
  },
  {
   "cell_type": "code",
   "execution_count": 14,
   "metadata": {
    "vscode": {
     "languageId": "shellscript"
    }
   },
   "outputs": [],
   "source": [
    "import pandas as pd"
   ]
  },
  {
   "cell_type": "markdown",
   "metadata": {},
   "source": [
    "## Import TSV\n",
    "\n",
    "Pandas makes this easy with the read_csv function. We are using a TSV, so we specify the separator as a tab, or `\\t`.\n",
    "\n",
    "I found it important to put this data in a tab-separated values format, because there are a lot of commas in this kind of data and comma-separated values can get messed up. However, you can modify the import statement, as pandas also has read_excel(), read_json(), and others."
   ]
  },
  {
   "cell_type": "code",
   "execution_count": 15,
   "metadata": {
    "vscode": {
     "languageId": "shellscript"
    }
   },
   "outputs": [
    {
     "data": {
      "text/html": [
       "<div>\n",
       "<style scoped>\n",
       "    .dataframe tbody tr th:only-of-type {\n",
       "        vertical-align: middle;\n",
       "    }\n",
       "\n",
       "    .dataframe tbody tr th {\n",
       "        vertical-align: top;\n",
       "    }\n",
       "\n",
       "    .dataframe thead th {\n",
       "        text-align: right;\n",
       "    }\n",
       "</style>\n",
       "<table border=\"1\" class=\"dataframe\">\n",
       "  <thead>\n",
       "    <tr style=\"text-align: right;\">\n",
       "      <th></th>\n",
       "      <th>pub_date</th>\n",
       "      <th>title</th>\n",
       "      <th>venue</th>\n",
       "      <th>excerpt</th>\n",
       "      <th>citation</th>\n",
       "      <th>url_slug</th>\n",
       "      <th>paper_url</th>\n",
       "      <th>ppt_path</th>\n",
       "    </tr>\n",
       "  </thead>\n",
       "  <tbody>\n",
       "    <tr>\n",
       "      <th>0</th>\n",
       "      <td>2024/7/19</td>\n",
       "      <td>Improved Naive Bayes with Mislabeled Data</td>\n",
       "      <td>Statistics and Its Interface</td>\n",
       "      <td></td>\n",
       "      <td>Zeng, Q., Zhu, Y.*, Zhu, X., Wang, F., Zhao, W...</td>\n",
       "      <td>INB</td>\n",
       "      <td>https://dx.doi.org/10.4310/22-SII757</td>\n",
       "      <td>/files/INB_PPT.pdf</td>\n",
       "    </tr>\n",
       "    <tr>\n",
       "      <th>1</th>\n",
       "      <td>2024/3/25</td>\n",
       "      <td>A Semiparametric Gaussian Mixture Model for Ch...</td>\n",
       "      <td>Biostatistics</td>\n",
       "      <td>NaN</td>\n",
       "      <td>Zeng, Q., Zhou, J.*, Ji, Y., Wang, H. (2024), ...</td>\n",
       "      <td>KEM</td>\n",
       "      <td>https://doi.org/10.1093/biostatistics/kxae013</td>\n",
       "      <td>NaN</td>\n",
       "    </tr>\n",
       "  </tbody>\n",
       "</table>\n",
       "</div>"
      ],
      "text/plain": [
       "    pub_date                                              title  \\\n",
       "0  2024/7/19          Improved Naive Bayes with Mislabeled Data   \n",
       "1  2024/3/25  A Semiparametric Gaussian Mixture Model for Ch...   \n",
       "\n",
       "                          venue excerpt  \\\n",
       "0  Statistics and Its Interface           \n",
       "1                 Biostatistics     NaN   \n",
       "\n",
       "                                            citation url_slug  \\\n",
       "0  Zeng, Q., Zhu, Y.*, Zhu, X., Wang, F., Zhao, W...      INB   \n",
       "1  Zeng, Q., Zhou, J.*, Ji, Y., Wang, H. (2024), ...      KEM   \n",
       "\n",
       "                                       paper_url            ppt_path  \n",
       "0           https://dx.doi.org/10.4310/22-SII757  /files/INB_PPT.pdf  \n",
       "1  https://doi.org/10.1093/biostatistics/kxae013                 NaN  "
      ]
     },
     "execution_count": 15,
     "metadata": {},
     "output_type": "execute_result"
    }
   ],
   "source": [
    "publications = pd.read_csv(\"publications.tsv\", sep=\"\\t\", header=0)\n",
    "publications"
   ]
  },
  {
   "cell_type": "markdown",
   "metadata": {},
   "source": [
    "## Escape special characters\n",
    "\n",
    "YAML is very picky about how it takes a valid string, so we are replacing single and double quotes (and ampersands) with their HTML encoded equivilents. This makes them look not so readable in raw format, but they are parsed and rendered nicely."
   ]
  },
  {
   "cell_type": "code",
   "execution_count": 16,
   "metadata": {
    "vscode": {
     "languageId": "shellscript"
    }
   },
   "outputs": [],
   "source": [
    "html_escape_table = {\n",
    "    \"&\": \"&amp;\",\n",
    "    '\"': \"&quot;\",\n",
    "    \"'\": \"&apos;\"\n",
    "    }\n",
    "\n",
    "def html_escape(text):\n",
    "    \"\"\"Produce entities within text.\"\"\"\n",
    "    return \"\".join(html_escape_table.get(c,c) for c in text)"
   ]
  },
  {
   "cell_type": "markdown",
   "metadata": {},
   "source": [
    "## Creating the markdown files\n",
    "\n",
    "This is where the heavy lifting is done. This loops through all the rows in the TSV dataframe, then starts to concatentate a big string (```md```) that contains the markdown for each type. It does the YAML metadata first, then does the description for the individual page."
   ]
  },
  {
   "cell_type": "code",
   "execution_count": 17,
   "metadata": {
    "vscode": {
     "languageId": "shellscript"
    }
   },
   "outputs": [],
   "source": [
    "import os\n",
    "for row, item in publications.iterrows():\n",
    "    \n",
    "    md_filename = str(item.pub_date) + \"-\" + item.url_slug + \".md\"\n",
    "    html_filename = str(item.pub_date) + \"-\" + item.url_slug\n",
    "    year = item.pub_date[:4]\n",
    "    \n",
    "    ## YAML variables\n",
    "    \n",
    "    md = \"---\\ntitle: \\\"\"   + item.title + '\"\\n'\n",
    "    \n",
    "    md += \"\"\"collection: publications\"\"\"\n",
    "    \n",
    "    md += \"\"\"\\npermalink: /publication/\"\"\" + html_filename\n",
    "    \n",
    "    if len(str(item.excerpt)) > 5:\n",
    "        md += \"\\nexcerpt: '\" + html_escape(item.excerpt) + \"'\"\n",
    "    \n",
    "    md += \"\\ndate: \" + str(item.pub_date) \n",
    "    \n",
    "    md += \"\\nvenue: '\" + html_escape(item.venue) + \"'\"\n",
    "    \n",
    "    if len(str(item.paper_url)) > 5:\n",
    "        md += \"\\npaperurl: '\" + item.paper_url + \"'\"\n",
    "    \n",
    "    md += \"\\ncitation: '\" + html_escape(item.citation) + \"'\"\n",
    "    \n",
    "    md += \"\\n---\"\n",
    "    \n",
    "    ## Markdown description for individual page\n",
    "        \n",
    "    if len(str(item.excerpt)) > 5:\n",
    "        md += \"\\n\" + html_escape(item.excerpt) + \"\\n\"\n",
    "    \n",
    "    if len(str(item.paper_url)) > 5:\n",
    "        md += \"\\n[Download paper here](\" + item.paper_url + \")\\n\" \n",
    "\n",
    "    if len(str(item.ppt_path)) > 3:\n",
    "        md += \"\\n[Download PPT here](\" + item.ppt_path + \")\\n\" \n",
    "        \n",
    "    # md += \"\\nRecommended citation: \" + item.citation\n",
    "    \n",
    "    # md_filename = os.path.basename(md_filename)\n",
    "    md_filename = md_filename.replace(\"/\", \"-\")\n",
    "    \n",
    "       \n",
    "    with open(\"../_publications/\" + md_filename, 'w') as f:\n",
    "        f.write(md)"
   ]
  },
  {
   "cell_type": "markdown",
   "metadata": {},
   "source": [
    "These files are in the publications directory, one directory below where we're working from."
   ]
  },
  {
   "cell_type": "code",
   "execution_count": 18,
   "metadata": {
    "vscode": {
     "languageId": "shellscript"
    }
   },
   "outputs": [
    {
     "name": "stdout",
     "output_type": "stream",
     "text": [
      "2024-3-25-KEM.md 2024-7-19-INB.md\n"
     ]
    }
   ],
   "source": [
    "!ls ../_publications/"
   ]
  },
  {
   "cell_type": "code",
   "execution_count": 19,
   "metadata": {
    "vscode": {
     "languageId": "shellscript"
    }
   },
   "outputs": [
    {
     "name": "stdout",
     "output_type": "stream",
     "text": [
      "---\n",
      "title: \"Improved Naive Bayes with Mislabeled Data\"\n",
      "collection: publications\n",
      "permalink: /publication/2024/7/19-INB\n",
      "date: 2024/7/19\n",
      "venue: 'Statistics and Its Interface'\n",
      "paperurl: 'https://dx.doi.org/10.4310/22-SII757'\n",
      "citation: 'Zeng, Q., Zhu, Y.*, Zhu, X., Wang, F., Zhao, W., Sun, S., Su, M., and Wang, H. (2024), &quot;Improved Naive Bayes with Mislabeled Data,&quot;  Statistics and Its Interface, 17(3):323-336.'\n",
      "---\n",
      "[Download paper here](https://dx.doi.org/10.4310/22-SII757)\n",
      "\n",
      "[Download PPT here](/files/INB_PPT.pdf)\n"
     ]
    }
   ],
   "source": [
    "!cat ../_publications/2024-7-19-INB.md"
   ]
  },
  {
   "cell_type": "code",
   "execution_count": 20,
   "metadata": {
    "vscode": {
     "languageId": "shellscript"
    }
   },
   "outputs": [
    {
     "data": {
      "text/plain": [
       "'---\\ntitle: \"A Semiparametric Gaussian Mixture Model for Chest CT-based 3D Blood Vessel Reconstruction \"\\ncollection: publications\\npermalink: /publication/2024/3/25-KEM\\ndate: 2024/3/25\\nvenue: \\'Biostatistics\\'\\npaperurl: \\'https://doi.org/10.1093/biostatistics/kxae013\\'\\ncitation: \\'Zeng, Q., Zhou, J.*, Ji, Y., Wang, H. (2024), A Semiparametric Gaussian Mixture Model for Chest CT Based 3D Blood Vessel Reconstruction. Biostatistics, kxae013.\\'\\n---\\n[Download paper here](https://doi.org/10.1093/biostatistics/kxae013)\\n'"
      ]
     },
     "execution_count": 20,
     "metadata": {},
     "output_type": "execute_result"
    }
   ],
   "source": [
    "md"
   ]
  },
  {
   "cell_type": "code",
   "execution_count": null,
   "metadata": {
    "vscode": {
     "languageId": "shellscript"
    }
   },
   "outputs": [],
   "source": []
  }
 ],
 "metadata": {
  "kernelspec": {
   "display_name": "Python 3 (ipykernel)",
   "language": "python",
   "name": "python3"
  },
  "language_info": {
   "codemirror_mode": {
    "name": "ipython",
    "version": 3
   },
   "file_extension": ".py",
   "mimetype": "text/x-python",
   "name": "python",
   "nbconvert_exporter": "python",
   "pygments_lexer": "ipython3",
   "version": "3.9.7"
  },
  "toc": {
   "base_numbering": 1,
   "nav_menu": {},
   "number_sections": true,
   "sideBar": true,
   "skip_h1_title": false,
   "title_cell": "Table of Contents",
   "title_sidebar": "Contents",
   "toc_cell": false,
   "toc_position": {},
   "toc_section_display": true,
   "toc_window_display": false
  }
 },
 "nbformat": 4,
 "nbformat_minor": 4
}
