{
 "cells": [
  {
   "cell_type": "markdown",
   "metadata": {},
   "source": [
    "# Talks markdown generator for academicpages\n",
    "\n",
    "Takes a TSV of talks with metadata and converts them for use with [academicpages.github.io](academicpages.github.io). This is an interactive Jupyter notebook ([see more info here](http://jupyter-notebook-beginner-guide.readthedocs.io/en/latest/what_is_jupyter.html)). The core python code is also in `talks.py`. Run either from the `markdown_generator` folder after replacing `talks.tsv` with one containing your data.\n",
    "\n",
    "TODO: Make this work with BibTex and other databases, rather than Stuart's non-standard TSV format and citation style."
   ]
  },
  {
   "cell_type": "code",
   "execution_count": 9,
   "metadata": {
    "vscode": {
     "languageId": "shellscript"
    }
   },
   "outputs": [],
   "source": [
    "import pandas as pd\n",
    "import os"
   ]
  },
  {
   "cell_type": "markdown",
   "metadata": {},
   "source": [
    "## Data format\n",
    "\n",
    "The TSV needs to have the following columns: title, type, url_slug, venue, date, location, talk_url, description, with a header at the top. Many of these fields can be blank, but the columns must be in the TSV.\n",
    "\n",
    "- Fields that cannot be blank: `title`, `url_slug`, `date`. All else can be blank. `type` defaults to \"Talk\" \n",
    "- `date` must be formatted as YYYY-MM-DD.\n",
    "- `url_slug` will be the descriptive part of the .md file and the permalink URL for the page about the paper. \n",
    "    - The .md file will be `YYYY-MM-DD-[url_slug].md` and the permalink will be `https://[yourdomain]/talks/YYYY-MM-DD-[url_slug]`\n",
    "    - The combination of `url_slug` and `date` must be unique, as it will be the basis for your filenames\n",
    "\n",
    "This is how the raw file looks (it doesn't look pretty, use a spreadsheet or other program to edit and create)."
   ]
  },
  {
   "cell_type": "code",
   "execution_count": 10,
   "metadata": {
    "vscode": {
     "languageId": "shellscript"
    }
   },
   "outputs": [
    {
     "name": "stdout",
     "output_type": "stream",
     "text": [
      "title\ttype\turl_slug\tvenue\tdate\tlocation\ttalk_url\tdescription\n",
      "Talk on Improved Naive Bayes with Mislabeled Data\tTalk\ttalk-INB\tClubear\t2022/11/26\tOnline\thttps://www.bilibili.com/video/BV1mS421A7Ho/?share_source=copy_web&vd_source=47589a897f88b176db158225dfea15c0\t\"This is an online sharing of the article \"\"Improved Naive Bayes with Mislabeled Data\"\" published on SII.\"\n",
      "Talk on A Semiparametric Gaussian Mixture Model for\u000b",
      "Chest CT Based 3D Blood Vessel Reconstruction\tTalk\ttalk-KEM\tClubear\t2024/7/5\tOnline\thttps://www.bilibili.com/video/BV1hH4y1w7aS/?share_source=copy_web&vd_source=47589a897f88b176db158225dfea15c0\t\"This is an online sharing of the article \"\"A Semiparametric Gaussian Mixture Model for\n",
      "Chest CT Based 3D Blood Vessel Reconstruction\"\" published on Biostatistics.\""
     ]
    }
   ],
   "source": [
    "!cat talks.tsv"
   ]
  },
  {
   "cell_type": "markdown",
   "metadata": {},
   "source": [
    "## Import TSV\n",
    "\n",
    "Pandas makes this easy with the read_csv function. We are using a TSV, so we specify the separator as a tab, or `\\t`.\n",
    "\n",
    "I found it important to put this data in a tab-separated values format, because there are a lot of commas in this kind of data and comma-separated values can get messed up. However, you can modify the import statement, as pandas also has read_excel(), read_json(), and others."
   ]
  },
  {
   "cell_type": "code",
   "execution_count": 11,
   "metadata": {
    "vscode": {
     "languageId": "shellscript"
    }
   },
   "outputs": [
    {
     "data": {
      "text/html": [
       "<div>\n",
       "<style scoped>\n",
       "    .dataframe tbody tr th:only-of-type {\n",
       "        vertical-align: middle;\n",
       "    }\n",
       "\n",
       "    .dataframe tbody tr th {\n",
       "        vertical-align: top;\n",
       "    }\n",
       "\n",
       "    .dataframe thead th {\n",
       "        text-align: right;\n",
       "    }\n",
       "</style>\n",
       "<table border=\"1\" class=\"dataframe\">\n",
       "  <thead>\n",
       "    <tr style=\"text-align: right;\">\n",
       "      <th></th>\n",
       "      <th>title</th>\n",
       "      <th>type</th>\n",
       "      <th>url_slug</th>\n",
       "      <th>venue</th>\n",
       "      <th>date</th>\n",
       "      <th>location</th>\n",
       "      <th>talk_url</th>\n",
       "      <th>description</th>\n",
       "    </tr>\n",
       "  </thead>\n",
       "  <tbody>\n",
       "    <tr>\n",
       "      <th>0</th>\n",
       "      <td>Talk on Improved Naive Bayes with Mislabeled Data</td>\n",
       "      <td>Talk</td>\n",
       "      <td>talk-INB</td>\n",
       "      <td>Clubear</td>\n",
       "      <td>2022/11/26</td>\n",
       "      <td>Online</td>\n",
       "      <td>https://www.bilibili.com/video/BV1mS421A7Ho/?s...</td>\n",
       "      <td>This is an online sharing of the article \"Impr...</td>\n",
       "    </tr>\n",
       "    <tr>\n",
       "      <th>1</th>\n",
       "      <td>Talk on A Semiparametric Gaussian Mixture Mode...</td>\n",
       "      <td>Talk</td>\n",
       "      <td>talk-KEM</td>\n",
       "      <td>Clubear</td>\n",
       "      <td>2024/7/5</td>\n",
       "      <td>Online</td>\n",
       "      <td>https://www.bilibili.com/video/BV1hH4y1w7aS/?s...</td>\n",
       "      <td>This is an online sharing of the article \"A Se...</td>\n",
       "    </tr>\n",
       "  </tbody>\n",
       "</table>\n",
       "</div>"
      ],
      "text/plain": [
       "                                               title  type  url_slug    venue  \\\n",
       "0  Talk on Improved Naive Bayes with Mislabeled Data  Talk  talk-INB  Clubear   \n",
       "1  Talk on A Semiparametric Gaussian Mixture Mode...  Talk  talk-KEM  Clubear   \n",
       "\n",
       "         date location                                           talk_url  \\\n",
       "0  2022/11/26   Online  https://www.bilibili.com/video/BV1mS421A7Ho/?s...   \n",
       "1    2024/7/5   Online  https://www.bilibili.com/video/BV1hH4y1w7aS/?s...   \n",
       "\n",
       "                                         description  \n",
       "0  This is an online sharing of the article \"Impr...  \n",
       "1  This is an online sharing of the article \"A Se...  "
      ]
     },
     "execution_count": 11,
     "metadata": {},
     "output_type": "execute_result"
    }
   ],
   "source": [
    "talks = pd.read_csv(\"talks.tsv\", sep=\"\\t\", header=0)\n",
    "talks"
   ]
  },
  {
   "cell_type": "markdown",
   "metadata": {},
   "source": [
    "## Escape special characters\n",
    "\n",
    "YAML is very picky about how it takes a valid string, so we are replacing single and double quotes (and ampersands) with their HTML encoded equivilents. This makes them look not so readable in raw format, but they are parsed and rendered nicely."
   ]
  },
  {
   "cell_type": "code",
   "execution_count": 12,
   "metadata": {
    "vscode": {
     "languageId": "shellscript"
    }
   },
   "outputs": [],
   "source": [
    "html_escape_table = {\n",
    "    \"&\": \"&amp;\",\n",
    "    '\"': \"&quot;\",\n",
    "    \"'\": \"&apos;\"\n",
    "    }\n",
    "\n",
    "def html_escape(text):\n",
    "    if type(text) is str:\n",
    "        return \"\".join(html_escape_table.get(c,c) for c in text)\n",
    "    else:\n",
    "        return \"False\""
   ]
  },
  {
   "cell_type": "markdown",
   "metadata": {},
   "source": [
    "## Creating the markdown files\n",
    "\n",
    "This is where the heavy lifting is done. This loops through all the rows in the TSV dataframe, then starts to concatentate a big string (```md```) that contains the markdown for each type. It does the YAML metadata first, then does the description for the individual page."
   ]
  },
  {
   "cell_type": "code",
   "execution_count": 13,
   "metadata": {
    "vscode": {
     "languageId": "shellscript"
    }
   },
   "outputs": [],
   "source": [
    "loc_dict = {}\n",
    "\n",
    "for row, item in talks.iterrows():\n",
    "    \n",
    "    md_filename = str(item.date) + \"-\" + item.url_slug + \".md\"\n",
    "    html_filename = str(item.date) + \"-\" + item.url_slug \n",
    "    year = item.date[:4]\n",
    "    \n",
    "    md = \"---\\ntitle: \\\"\"   + item.title + '\"\\n'\n",
    "    md += \"collection: talks\" + \"\\n\"\n",
    "    \n",
    "    if len(str(item.type)) > 3:\n",
    "        md += 'type: \"' + item.type + '\"\\n'\n",
    "    else:\n",
    "        md += 'type: \"Talk\"\\n'\n",
    "    \n",
    "    md += \"permalink: /talks/\" + html_filename + \"\\n\"\n",
    "    \n",
    "    if len(str(item.venue)) > 3:\n",
    "        md += 'venue: \"' + item.venue + '\"\\n'\n",
    "        \n",
    "    if len(str(item.location)) > 3:\n",
    "        md += \"date: \" + str(item.date) + \"\\n\"\n",
    "    \n",
    "    if len(str(item.location)) > 3:\n",
    "        md += 'location: \"' + str(item.location) + '\"\\n'\n",
    "           \n",
    "    md += \"---\\n\"\n",
    "    \n",
    "    \n",
    "    if len(str(item.talk_url)) > 3:\n",
    "        md += \"\\n[Bilibili Link](\" + item.talk_url + \")\\n\" \n",
    "        \n",
    "    \n",
    "    if len(str(item.description)) > 3:\n",
    "        md += \"\\n\" + html_escape(item.description) + \"\\n\"\n",
    "        \n",
    "        \n",
    "    # md_filename = os.path.basename(md_filename)\n",
    "    # a = str(item.date) + \"-\" + item.url_slug + \".md\"\n",
    "    md_filename = md_filename.replace(\"/\", \"-\")\n",
    "    \n",
    "    with open(\"../_talks/\" + md_filename, 'w') as f:\n",
    "        f.write(md)"
   ]
  },
  {
   "cell_type": "markdown",
   "metadata": {},
   "source": [
    "These files are in the talks directory, one directory below where we're working from."
   ]
  },
  {
   "cell_type": "code",
   "execution_count": 14,
   "metadata": {
    "vscode": {
     "languageId": "shellscript"
    }
   },
   "outputs": [
    {
     "name": "stdout",
     "output_type": "stream",
     "text": [
      "2022-11-26-talk-INB.md 2024-7-5-talk-KEM.md\n"
     ]
    }
   ],
   "source": [
    "!ls ../_talks"
   ]
  },
  {
   "cell_type": "code",
   "execution_count": 15,
   "metadata": {
    "vscode": {
     "languageId": "shellscript"
    }
   },
   "outputs": [
    {
     "name": "stdout",
     "output_type": "stream",
     "text": [
      "---\n",
      "title: \"Talk on Improved Naive Bayes with Mislabeled Data\"\n",
      "collection: talks\n",
      "type: \"Talk\"\n",
      "permalink: /talks/2022/11/26-talk-INB\n",
      "venue: \"Clubear\"\n",
      "date: 2022/11/26\n",
      "location: \"Online\"\n",
      "---\n",
      "\n",
      "[Bilibili Link](https://www.bilibili.com/video/BV1mS421A7Ho/?share_source=copy_web&vd_source=47589a897f88b176db158225dfea15c0)\n",
      "\n",
      "This is an online sharing of the article &quot;Improved Naive Bayes with Mislabeled Data&quot; published on SII.\n"
     ]
    }
   ],
   "source": [
    "!cat ../_talks/2022-11-26-talk-INB.md"
   ]
  },
  {
   "cell_type": "code",
   "execution_count": 16,
   "metadata": {
    "vscode": {
     "languageId": "shellscript"
    }
   },
   "outputs": [
    {
     "name": "stdout",
     "output_type": "stream",
     "text": [
      "---\n",
      "title: \"Talk on A Semiparametric Gaussian Mixture Model for\u000b",
      "Chest CT Based 3D Blood Vessel Reconstruction\"\n",
      "collection: talks\n",
      "type: \"Talk\"\n",
      "permalink: /talks/2024/7/5-talk-KEM\n",
      "venue: \"Clubear\"\n",
      "date: 2024/7/5\n",
      "location: \"Online\"\n",
      "---\n",
      "\n",
      "[Bilibili Link](https://www.bilibili.com/video/BV1hH4y1w7aS/?share_source=copy_web&vd_source=47589a897f88b176db158225dfea15c0)\n",
      "\n",
      "This is an online sharing of the article &quot;A Semiparametric Gaussian Mixture Model for\n",
      "Chest CT Based 3D Blood Vessel Reconstruction&quot; published on Biostatistics.\n"
     ]
    }
   ],
   "source": [
    "!cat ../_talks/2024-7-5-talk-KEM.md"
   ]
  },
  {
   "cell_type": "code",
   "execution_count": null,
   "metadata": {},
   "outputs": [],
   "source": []
  }
 ],
 "metadata": {
  "kernelspec": {
   "display_name": "Python 3 (ipykernel)",
   "language": "python",
   "name": "python3"
  },
  "language_info": {
   "codemirror_mode": {
    "name": "ipython",
    "version": 3
   },
   "file_extension": ".py",
   "mimetype": "text/x-python",
   "name": "python",
   "nbconvert_exporter": "python",
   "pygments_lexer": "ipython3",
   "version": "3.9.7"
  },
  "toc": {
   "base_numbering": 1,
   "nav_menu": {},
   "number_sections": true,
   "sideBar": true,
   "skip_h1_title": false,
   "title_cell": "Table of Contents",
   "title_sidebar": "Contents",
   "toc_cell": false,
   "toc_position": {},
   "toc_section_display": true,
   "toc_window_display": false
  }
 },
 "nbformat": 4,
 "nbformat_minor": 4
}
